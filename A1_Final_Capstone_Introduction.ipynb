{
 "cells": [
  {
   "cell_type": "markdown",
   "metadata": {},
   "source": [
    "# Final Capstone Project\n",
    "## Find the best city in and around Cincinnati, OH to launch a new Asian Grocery Supermarket."
   ]
  },
  {
   "cell_type": "markdown",
   "metadata": {},
   "source": [
    "### **1. Introduction:**\n",
    "#### **Client and Background:** Our client is a business chain that has Asian grocery markets across various states within USA. They want to expand their business in mid-west and are contemplating Cincinnati neighborhood as their destination. We will help them in researching and analyzing various neighborhoods in the region and find the best location to launch their new store.\n",
    "\n",
    "#### **Objective:** The project is to **research the main cities within the Greater Cincinnati Area of Ohio (OH)** and present their potential to be a good fit **for launching a new Asian Grocery Supermarket**.\n",
    "#### We agreed with client to explore the cities in terms of **Restaurants** and **Schools** to get an idea of Asian population in these cities. The client would be primarily selling the Indian and Chinese groceries and other festive items so we will primarily consider Indian and Chinese restaurants with other Asian Restaurants. School analysis presumes the current and future immigrant Asian population may be more focused on cities with high standard of education.\n",
    "\n",
    "#### We will work to present each city in terms of number of Indian/Chinese/Asian Restaurants, schools and school district details. "
   ]
  },
  {
   "cell_type": "markdown",
   "metadata": {},
   "source": [
    "### **2a. Data:**\n",
    "#### **Cities:** For cities, we start with the Wikipedia page.\n",
    "#### https://en.wikipedia.org/wiki/Cincinnati_metropolitan_area\n",
    "#### The page lists all the Counties in the Cincinnati metro area, we take the Ohio (OH) counties from here and dig deep to more wiki pages for those counties to get the main cities. the cities have their population listed on those wiki pages that we will be using.\n",
    "#### For **locations** data of cities we will use `geolocator`\n",
    "\n",
    "#### **Restaurants:** For restaurants analysis, we will use the FOURSQUARE database and APIs.\n",
    "#### https://api.foursquare.com/v2/venues/explore?&client_id={}&client_secret={}&v={}&query={}&ll={},{}&radius={}&limit={}\n",
    "\n",
    "#### **Schools and Schools Districts:** \n",
    ">#### i) Fall Enrollment (Headcount) - October 2018 Public Districts and Buildings from http://education.ohio.gov/Topics/Data/Frequently-Requested-Data/Enrollment-Data\n",
    ">#### ii) We will use Performance Index Score Rankings from http://education.ohio.gov/lists_and_rankings\n",
    "\n",
    "### **2b. Methodology:** We will look at \n",
    "\n",
    "> - density of Indian/Chinese/other Asian restaurants within 5 miles of the cities\n",
    "> - population of the cities\n",
    "> - number of Pre/Elem/Med/High schools within 5 miles of those cities\n",
    "> - grade/rating of the main school district serving each city\n",
    "> - Total enrollment in the school district this current year and possibly # of Asian students enrolled\n",
    "\n",
    "#### We will assign score to each city for each of the above criteria and take the final score to rank the cities. We will also plot them using FOLIUM to visualize the Final Index score and location on the map for easy comprehension."
   ]
  },
  {
   "cell_type": "code",
   "execution_count": null,
   "metadata": {},
   "outputs": [],
   "source": []
  }
 ],
 "metadata": {
  "kernelspec": {
   "display_name": "Python 3",
   "language": "python",
   "name": "python3"
  },
  "language_info": {
   "codemirror_mode": {
    "name": "ipython",
    "version": 3
   },
   "file_extension": ".py",
   "mimetype": "text/x-python",
   "name": "python",
   "nbconvert_exporter": "python",
   "pygments_lexer": "ipython3",
   "version": "3.6.6"
  }
 },
 "nbformat": 4,
 "nbformat_minor": 2
}
