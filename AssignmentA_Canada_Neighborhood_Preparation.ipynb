{
 "cells": [
  {
   "cell_type": "markdown",
   "metadata": {},
   "source": [
    "Import the data"
   ]
  },
  {
   "cell_type": "code",
   "execution_count": 1,
   "metadata": {},
   "outputs": [],
   "source": [
    "import requests\n",
    "r = requests.get('https://en.wikipedia.org/wiki/List_of_postal_codes_of_Canada:_M')"
   ]
  },
  {
   "cell_type": "code",
   "execution_count": 2,
   "metadata": {},
   "outputs": [
    {
     "name": "stdout",
     "output_type": "stream",
     "text": [
      "<!DOCTYPE html>\n",
      "<html class=\"client-nojs\" lang=\"en\" dir=\"ltr\">\n",
      "<head>\n",
      "<meta charset=\"UTF-8\"/>\n",
      "<title>List of postal codes of Canada: M - Wikipedia</title>\n",
      "<script>document.documentElement.className = document.documentElement.className.replace( /(^|\\s)client-nojs(\\s|$)/, \"$1client-js$2\" );</script>\n",
      "<script>(window.RLQ=window.RLQ||[]).push(function(){mw.config.set({\"wgCanonicalNamespace\":\"\",\"wgCanonicalSpecialPageName\":false,\"wgNamespaceNumber\":0,\"wgPageName\":\"List_of_postal_codes_of_Canada:_M\",\"w\n"
     ]
    }
   ],
   "source": [
    "# print the first 500 characters of the HTML\n",
    "print(r.text[0:500])"
   ]
  },
  {
   "cell_type": "code",
   "execution_count": 3,
   "metadata": {},
   "outputs": [],
   "source": [
    "from bs4 import BeautifulSoup\n",
    "soup = BeautifulSoup(r.text, 'html.parser')"
   ]
  },
  {
   "cell_type": "code",
   "execution_count": 4,
   "metadata": {},
   "outputs": [],
   "source": [
    "#print(soup.prettify())"
   ]
  },
  {
   "cell_type": "code",
   "execution_count": 5,
   "metadata": {},
   "outputs": [],
   "source": [
    "results = soup.find('table', attrs={'class':'wikitable sortable'})"
   ]
  },
  {
   "cell_type": "code",
   "execution_count": 6,
   "metadata": {},
   "outputs": [],
   "source": [
    "results = results.find('tbody').find_all('tr')"
   ]
  },
  {
   "cell_type": "markdown",
   "metadata": {},
   "source": [
    "`results` here includes the fist header row as well, that we will skip while appending in the final list"
   ]
  },
  {
   "cell_type": "code",
   "execution_count": 7,
   "metadata": {},
   "outputs": [
    {
     "data": {
      "text/plain": [
       "['\\n', <th>Postcode</th>, '\\n', <th>Borough</th>, '\\n', <th>Neighbourhood\n",
       " </th>]"
      ]
     },
     "execution_count": 7,
     "metadata": {},
     "output_type": "execute_result"
    }
   ],
   "source": [
    "results[0].contents"
   ]
  },
  {
   "cell_type": "markdown",
   "metadata": {},
   "source": [
    "We will use the contents (child elements) method to navigate through the data and create the list"
   ]
  },
  {
   "cell_type": "code",
   "execution_count": 8,
   "metadata": {},
   "outputs": [
    {
     "name": "stdout",
     "output_type": "stream",
     "text": [
      "Postcode Borough Neighbourhood\n",
      "\n"
     ]
    }
   ],
   "source": [
    "print(results[0].contents[1].text, results[0].contents[3].text,results[0].contents[5].text)"
   ]
  },
  {
   "cell_type": "code",
   "execution_count": 9,
   "metadata": {},
   "outputs": [],
   "source": [
    "records = []\n",
    "lastpost = ''\n",
    "lastneighbourhood= ''\n",
    "for result in results:\n",
    "    postcode = result.contents[1].text\n",
    "    borough = result.contents[3].text\n",
    "    neighbourhood = result.contents[5].text[0:-1]\n",
    "    if borough != 'Not assigned' and postcode != 'Postcode':\n",
    "        records.append((postcode, borough, neighbourhood))"
   ]
  },
  {
   "cell_type": "code",
   "execution_count": 10,
   "metadata": {},
   "outputs": [],
   "source": [
    "import pandas as pd\n",
    "df = pd.DataFrame(records, columns=['Postcode', 'Borough', 'Neighbourhood'])    \n",
    "\n",
    "df = df.groupby(['Postcode','Borough'], sort = False).agg(lambda x: ', '.join(x))\n",
    "df = df.reset_index()"
   ]
  },
  {
   "cell_type": "code",
   "execution_count": 13,
   "metadata": {},
   "outputs": [
    {
     "name": "stdout",
     "output_type": "stream",
     "text": [
      "(103, 3)\n",
      "   Postcode      Borough                                      Neighbourhood\n",
      "6       M1B  Scarborough                                     Rouge, Malvern\n",
      "12      M1C  Scarborough             Highland Creek, Rouge Hill, Port Union\n",
      "18      M1E  Scarborough                  Guildwood, Morningside, West Hill\n",
      "22      M1G  Scarborough                                             Woburn\n",
      "26      M1H  Scarborough                                          Cedarbrae\n",
      "32      M1J  Scarborough                                Scarborough Village\n",
      "38      M1K  Scarborough        East Birchmount Park, Ionview, Kennedy Park\n",
      "44      M1L  Scarborough                    Clairlea, Golden Mile, Oakridge\n",
      "51      M1M  Scarborough    Cliffcrest, Cliffside, Scarborough Village West\n",
      "58      M1N  Scarborough                        Birch Cliff, Cliffside West\n",
      "65      M1P  Scarborough  Dorset Park, Scarborough Town Centre, Wexford ...\n",
      "71      M1R  Scarborough                                  Maryvale, Wexford\n",
      "78      M1S  Scarborough                                          Agincourt\n",
      "82      M1T  Scarborough            Clarks Corners, Sullivan, Tam O'Shanter\n",
      "85      M1V  Scarborough  Agincourt North, L'Amoreaux East, Milliken, St...\n",
      "90      M1W  Scarborough                      L'Amoreaux West, Steeles West\n",
      "95      M1X  Scarborough                                        Upper Rouge\n",
      "27      M2H   North York                                  Hillcrest Village\n",
      "33      M2J   North York                       Fairview, Henry Farm, Oriole\n",
      "39      M2K   North York                                    Bayview Village\n"
     ]
    }
   ],
   "source": [
    "print(df.shape)\n",
    "df.sort_values(by='Postcode', inplace = True)\n",
    "print(df.head(20))"
   ]
  },
  {
   "cell_type": "code",
   "execution_count": null,
   "metadata": {},
   "outputs": [],
   "source": []
  }
 ],
 "metadata": {
  "kernelspec": {
   "display_name": "Python 3",
   "language": "python",
   "name": "python3"
  },
  "language_info": {
   "codemirror_mode": {
    "name": "ipython",
    "version": 3
   },
   "file_extension": ".py",
   "mimetype": "text/x-python",
   "name": "python",
   "nbconvert_exporter": "python",
   "pygments_lexer": "ipython3",
   "version": "3.7.0"
  }
 },
 "nbformat": 4,
 "nbformat_minor": 2
}
